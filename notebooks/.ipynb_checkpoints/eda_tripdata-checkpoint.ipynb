{
 "cells": [
  {
   "cell_type": "code",
   "execution_count": 5,
   "id": "b2d389e5-4e43-434c-8d71-49fad7b74c8a",
   "metadata": {},
   "outputs": [
    {
     "ename": "SyntaxError",
     "evalue": "unterminated string literal (detected at line 9) (998662188.py, line 9)",
     "output_type": "error",
     "traceback": [
      "  \u001b[36mCell\u001b[39m\u001b[36m \u001b[39m\u001b[32mIn[5]\u001b[39m\u001b[32m, line 9\u001b[39m\n\u001b[31m    \u001b[39m\u001b[31muser=\"postgres,\u001b[39m\n         ^\n\u001b[31mSyntaxError\u001b[39m\u001b[31m:\u001b[39m unterminated string literal (detected at line 9)\n"
     ]
    }
   ],
   "source": [
    "import pandas as pd\n",
    "import psycopg2\n",
    "import matplotlib.pyplot as plt\n",
    "import seaborn as sns\n",
    "\n",
    "# Connexion au Data Mart\n",
    "conn = psycopg2.connect(\n",
    "    dbname=\"postgres\",\n",
    "    user=\"admin\",\n",
    "    password=\"admin\",\n",
    "    host=\"localhost\",  # ou \"data-mart\" si en conteneur\n",
    "    port=\"15435\"\n",
    ")\n",
    "\n",
    "# Exemple : nombre de trajets par heure\n",
    "query = \"\"\"\n",
    "SELECT d.hour, COUNT(*) AS trip_count\n",
    "FROM fact_tripdata f\n",
    "JOIN dim_time d ON f.pickup_time_id = d.time_id\n",
    "GROUP BY d.hour\n",
    "ORDER BY d.hour;\n",
    "\"\"\"\n",
    "\n",
    "df = pd.read_sql(query, conn)\n",
    "\n",
    "# Visualisation\n",
    "plt.figure(figsize=(10, 5))\n",
    "sns.barplot(data=df, x=\"hour\", y=\"trip_count\")\n",
    "plt.title(\"Nombre de trajets par heure de la journée\")\n",
    "plt.xlabel(\"Heure\")\n",
    "plt.ylabel(\"Nombre de trajets\")\n",
    "plt.tight_layout()\n",
    "plt.show()\n"
   ]
  },
  {
   "cell_type": "code",
   "execution_count": null,
   "id": "483f7dda-51ab-4042-8481-d0b342b3b180",
   "metadata": {},
   "outputs": [],
   "source": []
  }
 ],
 "metadata": {
  "kernelspec": {
   "display_name": "Python 3 (ipykernel)",
   "language": "python",
   "name": "python3"
  },
  "language_info": {
   "codemirror_mode": {
    "name": "ipython",
    "version": 3
   },
   "file_extension": ".py",
   "mimetype": "text/x-python",
   "name": "python",
   "nbconvert_exporter": "python",
   "pygments_lexer": "ipython3",
   "version": "3.12.3"
  }
 },
 "nbformat": 4,
 "nbformat_minor": 5
}
